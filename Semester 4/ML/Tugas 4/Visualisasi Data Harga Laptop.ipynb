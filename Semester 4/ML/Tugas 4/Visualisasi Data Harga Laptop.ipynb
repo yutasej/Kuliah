{
 "cells": [
  {
   "cell_type": "code",
   "execution_count": 1,
   "metadata": {},
   "outputs": [],
   "source": [
    "import numpy as np\n",
    "import matplotlib.pyplot as plt\n",
    "import pandas as pd"
   ]
  },
  {
   "cell_type": "code",
   "execution_count": 2,
   "metadata": {},
   "outputs": [
    {
     "data": {
      "text/html": [
       "<div>\n",
       "<style scoped>\n",
       "    .dataframe tbody tr th:only-of-type {\n",
       "        vertical-align: middle;\n",
       "    }\n",
       "\n",
       "    .dataframe tbody tr th {\n",
       "        vertical-align: top;\n",
       "    }\n",
       "\n",
       "    .dataframe thead th {\n",
       "        text-align: right;\n",
       "    }\n",
       "</style>\n",
       "<table border=\"1\" class=\"dataframe\">\n",
       "  <thead>\n",
       "    <tr style=\"text-align: right;\">\n",
       "      <th></th>\n",
       "      <th>Unnamed: 0</th>\n",
       "      <th>Company</th>\n",
       "      <th>TypeName</th>\n",
       "      <th>Inches</th>\n",
       "      <th>ScreenResolution</th>\n",
       "      <th>Cpu</th>\n",
       "      <th>Ram</th>\n",
       "      <th>Memory</th>\n",
       "      <th>Gpu</th>\n",
       "      <th>OpSys</th>\n",
       "      <th>Weight</th>\n",
       "      <th>Price</th>\n",
       "    </tr>\n",
       "  </thead>\n",
       "  <tbody>\n",
       "    <tr>\n",
       "      <th>0</th>\n",
       "      <td>0</td>\n",
       "      <td>Apple</td>\n",
       "      <td>Ultrabook</td>\n",
       "      <td>13.3</td>\n",
       "      <td>IPS Panel Retina Display 2560x1600</td>\n",
       "      <td>Intel Core i5 2.3GHz</td>\n",
       "      <td>8GB</td>\n",
       "      <td>128GB SSD</td>\n",
       "      <td>Intel Iris Plus Graphics 640</td>\n",
       "      <td>macOS</td>\n",
       "      <td>1.37kg</td>\n",
       "      <td>71378.6832</td>\n",
       "    </tr>\n",
       "    <tr>\n",
       "      <th>1</th>\n",
       "      <td>1</td>\n",
       "      <td>Apple</td>\n",
       "      <td>Ultrabook</td>\n",
       "      <td>13.3</td>\n",
       "      <td>1440x900</td>\n",
       "      <td>Intel Core i5 1.8GHz</td>\n",
       "      <td>8GB</td>\n",
       "      <td>128GB Flash Storage</td>\n",
       "      <td>Intel HD Graphics 6000</td>\n",
       "      <td>macOS</td>\n",
       "      <td>1.34kg</td>\n",
       "      <td>47895.5232</td>\n",
       "    </tr>\n",
       "    <tr>\n",
       "      <th>2</th>\n",
       "      <td>2</td>\n",
       "      <td>HP</td>\n",
       "      <td>Notebook</td>\n",
       "      <td>15.6</td>\n",
       "      <td>Full HD 1920x1080</td>\n",
       "      <td>Intel Core i5 7200U 2.5GHz</td>\n",
       "      <td>8GB</td>\n",
       "      <td>256GB SSD</td>\n",
       "      <td>Intel HD Graphics 620</td>\n",
       "      <td>No OS</td>\n",
       "      <td>1.86kg</td>\n",
       "      <td>30636.0000</td>\n",
       "    </tr>\n",
       "    <tr>\n",
       "      <th>3</th>\n",
       "      <td>3</td>\n",
       "      <td>Apple</td>\n",
       "      <td>Ultrabook</td>\n",
       "      <td>15.4</td>\n",
       "      <td>IPS Panel Retina Display 2880x1800</td>\n",
       "      <td>Intel Core i7 2.7GHz</td>\n",
       "      <td>16GB</td>\n",
       "      <td>512GB SSD</td>\n",
       "      <td>AMD Radeon Pro 455</td>\n",
       "      <td>macOS</td>\n",
       "      <td>1.83kg</td>\n",
       "      <td>135195.3360</td>\n",
       "    </tr>\n",
       "    <tr>\n",
       "      <th>4</th>\n",
       "      <td>4</td>\n",
       "      <td>Apple</td>\n",
       "      <td>Ultrabook</td>\n",
       "      <td>13.3</td>\n",
       "      <td>IPS Panel Retina Display 2560x1600</td>\n",
       "      <td>Intel Core i5 3.1GHz</td>\n",
       "      <td>8GB</td>\n",
       "      <td>256GB SSD</td>\n",
       "      <td>Intel Iris Plus Graphics 650</td>\n",
       "      <td>macOS</td>\n",
       "      <td>1.37kg</td>\n",
       "      <td>96095.8080</td>\n",
       "    </tr>\n",
       "  </tbody>\n",
       "</table>\n",
       "</div>"
      ],
      "text/plain": [
       "   Unnamed: 0 Company   TypeName  Inches                    ScreenResolution  \\\n",
       "0           0   Apple  Ultrabook    13.3  IPS Panel Retina Display 2560x1600   \n",
       "1           1   Apple  Ultrabook    13.3                            1440x900   \n",
       "2           2      HP   Notebook    15.6                   Full HD 1920x1080   \n",
       "3           3   Apple  Ultrabook    15.4  IPS Panel Retina Display 2880x1800   \n",
       "4           4   Apple  Ultrabook    13.3  IPS Panel Retina Display 2560x1600   \n",
       "\n",
       "                          Cpu   Ram               Memory  \\\n",
       "0        Intel Core i5 2.3GHz   8GB            128GB SSD   \n",
       "1        Intel Core i5 1.8GHz   8GB  128GB Flash Storage   \n",
       "2  Intel Core i5 7200U 2.5GHz   8GB            256GB SSD   \n",
       "3        Intel Core i7 2.7GHz  16GB            512GB SSD   \n",
       "4        Intel Core i5 3.1GHz   8GB            256GB SSD   \n",
       "\n",
       "                            Gpu  OpSys  Weight        Price  \n",
       "0  Intel Iris Plus Graphics 640  macOS  1.37kg   71378.6832  \n",
       "1        Intel HD Graphics 6000  macOS  1.34kg   47895.5232  \n",
       "2         Intel HD Graphics 620  No OS  1.86kg   30636.0000  \n",
       "3            AMD Radeon Pro 455  macOS  1.83kg  135195.3360  \n",
       "4  Intel Iris Plus Graphics 650  macOS  1.37kg   96095.8080  "
      ]
     },
     "execution_count": 2,
     "metadata": {},
     "output_type": "execute_result"
    }
   ],
   "source": [
    "data = pd.read_csv(\"laptop_data.csv\")\n",
    "data.head()"
   ]
  },
  {
   "cell_type": "code",
   "execution_count": 3,
   "metadata": {},
   "outputs": [
    {
     "name": "stdout",
     "output_type": "stream",
     "text": [
      "<class 'pandas.core.frame.DataFrame'>\n",
      "RangeIndex: 1303 entries, 0 to 1302\n",
      "Data columns (total 12 columns):\n",
      " #   Column            Non-Null Count  Dtype  \n",
      "---  ------            --------------  -----  \n",
      " 0   Unnamed: 0        1303 non-null   int64  \n",
      " 1   Company           1303 non-null   object \n",
      " 2   TypeName          1303 non-null   object \n",
      " 3   Inches            1303 non-null   float64\n",
      " 4   ScreenResolution  1303 non-null   object \n",
      " 5   Cpu               1303 non-null   object \n",
      " 6   Ram               1303 non-null   object \n",
      " 7   Memory            1303 non-null   object \n",
      " 8   Gpu               1303 non-null   object \n",
      " 9   OpSys             1303 non-null   object \n",
      " 10  Weight            1303 non-null   object \n",
      " 11  Price             1303 non-null   float64\n",
      "dtypes: float64(2), int64(1), object(9)\n",
      "memory usage: 122.3+ KB\n"
     ]
    }
   ],
   "source": [
    "data.info()"
   ]
  },
  {
   "cell_type": "code",
   "execution_count": 4,
   "metadata": {},
   "outputs": [
    {
     "data": {
      "text/plain": [
       "array(['macOS', 'No OS', 'Windows 10', 'Mac OS X', 'Linux', 'Android',\n",
       "       'Windows 10 S', 'Chrome OS', 'Windows 7'], dtype=object)"
      ]
     },
     "execution_count": 4,
     "metadata": {},
     "output_type": "execute_result"
    }
   ],
   "source": [
    "data['OpSys'].unique()"
   ]
  },
  {
   "cell_type": "code",
   "execution_count": 5,
   "metadata": {},
   "outputs": [
    {
     "data": {
      "text/html": [
       "<div>\n",
       "<style scoped>\n",
       "    .dataframe tbody tr th:only-of-type {\n",
       "        vertical-align: middle;\n",
       "    }\n",
       "\n",
       "    .dataframe tbody tr th {\n",
       "        vertical-align: top;\n",
       "    }\n",
       "\n",
       "    .dataframe thead th {\n",
       "        text-align: right;\n",
       "    }\n",
       "</style>\n",
       "<table border=\"1\" class=\"dataframe\">\n",
       "  <thead>\n",
       "    <tr style=\"text-align: right;\">\n",
       "      <th></th>\n",
       "      <th>Unnamed: 0</th>\n",
       "      <th>Company</th>\n",
       "      <th>TypeName</th>\n",
       "      <th>Inches</th>\n",
       "      <th>ScreenResolution</th>\n",
       "      <th>Cpu</th>\n",
       "      <th>Ram</th>\n",
       "      <th>Memory</th>\n",
       "      <th>Gpu</th>\n",
       "      <th>OpSys</th>\n",
       "      <th>Weight</th>\n",
       "      <th>Price</th>\n",
       "    </tr>\n",
       "  </thead>\n",
       "  <tbody>\n",
       "    <tr>\n",
       "      <th>5</th>\n",
       "      <td>5</td>\n",
       "      <td>Acer</td>\n",
       "      <td>Notebook</td>\n",
       "      <td>15.6</td>\n",
       "      <td>1366x768</td>\n",
       "      <td>AMD A9-Series 9420 3GHz</td>\n",
       "      <td>4GB</td>\n",
       "      <td>500GB HDD</td>\n",
       "      <td>AMD Radeon R5</td>\n",
       "      <td>Windows 10</td>\n",
       "      <td>2.1kg</td>\n",
       "      <td>21312.000</td>\n",
       "    </tr>\n",
       "    <tr>\n",
       "      <th>8</th>\n",
       "      <td>8</td>\n",
       "      <td>Asus</td>\n",
       "      <td>Ultrabook</td>\n",
       "      <td>14.0</td>\n",
       "      <td>Full HD 1920x1080</td>\n",
       "      <td>Intel Core i7 8550U 1.8GHz</td>\n",
       "      <td>16GB</td>\n",
       "      <td>512GB SSD</td>\n",
       "      <td>Nvidia GeForce MX150</td>\n",
       "      <td>Windows 10</td>\n",
       "      <td>1.3kg</td>\n",
       "      <td>79653.600</td>\n",
       "    </tr>\n",
       "    <tr>\n",
       "      <th>9</th>\n",
       "      <td>9</td>\n",
       "      <td>Acer</td>\n",
       "      <td>Ultrabook</td>\n",
       "      <td>14.0</td>\n",
       "      <td>IPS Panel Full HD 1920x1080</td>\n",
       "      <td>Intel Core i5 8250U 1.6GHz</td>\n",
       "      <td>8GB</td>\n",
       "      <td>256GB SSD</td>\n",
       "      <td>Intel UHD Graphics 620</td>\n",
       "      <td>Windows 10</td>\n",
       "      <td>1.6kg</td>\n",
       "      <td>41025.600</td>\n",
       "    </tr>\n",
       "    <tr>\n",
       "      <th>13</th>\n",
       "      <td>13</td>\n",
       "      <td>Dell</td>\n",
       "      <td>Notebook</td>\n",
       "      <td>15.6</td>\n",
       "      <td>Full HD 1920x1080</td>\n",
       "      <td>Intel Core i3 6006U 2GHz</td>\n",
       "      <td>4GB</td>\n",
       "      <td>256GB SSD</td>\n",
       "      <td>AMD Radeon R5 M430</td>\n",
       "      <td>Windows 10</td>\n",
       "      <td>2.2kg</td>\n",
       "      <td>26581.392</td>\n",
       "    </tr>\n",
       "    <tr>\n",
       "      <th>16</th>\n",
       "      <td>16</td>\n",
       "      <td>Dell</td>\n",
       "      <td>Notebook</td>\n",
       "      <td>15.6</td>\n",
       "      <td>Full HD 1920x1080</td>\n",
       "      <td>Intel Core i7 7500U 2.7GHz</td>\n",
       "      <td>8GB</td>\n",
       "      <td>256GB SSD</td>\n",
       "      <td>AMD Radeon R5 M430</td>\n",
       "      <td>Windows 10</td>\n",
       "      <td>2.2kg</td>\n",
       "      <td>39693.600</td>\n",
       "    </tr>\n",
       "    <tr>\n",
       "      <th>...</th>\n",
       "      <td>...</td>\n",
       "      <td>...</td>\n",
       "      <td>...</td>\n",
       "      <td>...</td>\n",
       "      <td>...</td>\n",
       "      <td>...</td>\n",
       "      <td>...</td>\n",
       "      <td>...</td>\n",
       "      <td>...</td>\n",
       "      <td>...</td>\n",
       "      <td>...</td>\n",
       "      <td>...</td>\n",
       "    </tr>\n",
       "    <tr>\n",
       "      <th>1298</th>\n",
       "      <td>1298</td>\n",
       "      <td>Lenovo</td>\n",
       "      <td>2 in 1 Convertible</td>\n",
       "      <td>14.0</td>\n",
       "      <td>IPS Panel Full HD / Touchscreen 1920x1080</td>\n",
       "      <td>Intel Core i7 6500U 2.5GHz</td>\n",
       "      <td>4GB</td>\n",
       "      <td>128GB SSD</td>\n",
       "      <td>Intel HD Graphics 520</td>\n",
       "      <td>Windows 10</td>\n",
       "      <td>1.8kg</td>\n",
       "      <td>33992.640</td>\n",
       "    </tr>\n",
       "    <tr>\n",
       "      <th>1299</th>\n",
       "      <td>1299</td>\n",
       "      <td>Lenovo</td>\n",
       "      <td>2 in 1 Convertible</td>\n",
       "      <td>13.3</td>\n",
       "      <td>IPS Panel Quad HD+ / Touchscreen 3200x1800</td>\n",
       "      <td>Intel Core i7 6500U 2.5GHz</td>\n",
       "      <td>16GB</td>\n",
       "      <td>512GB SSD</td>\n",
       "      <td>Intel HD Graphics 520</td>\n",
       "      <td>Windows 10</td>\n",
       "      <td>1.3kg</td>\n",
       "      <td>79866.720</td>\n",
       "    </tr>\n",
       "    <tr>\n",
       "      <th>1300</th>\n",
       "      <td>1300</td>\n",
       "      <td>Lenovo</td>\n",
       "      <td>Notebook</td>\n",
       "      <td>14.0</td>\n",
       "      <td>1366x768</td>\n",
       "      <td>Intel Celeron Dual Core N3050 1.6GHz</td>\n",
       "      <td>2GB</td>\n",
       "      <td>64GB Flash Storage</td>\n",
       "      <td>Intel HD Graphics</td>\n",
       "      <td>Windows 10</td>\n",
       "      <td>1.5kg</td>\n",
       "      <td>12201.120</td>\n",
       "    </tr>\n",
       "    <tr>\n",
       "      <th>1301</th>\n",
       "      <td>1301</td>\n",
       "      <td>HP</td>\n",
       "      <td>Notebook</td>\n",
       "      <td>15.6</td>\n",
       "      <td>1366x768</td>\n",
       "      <td>Intel Core i7 6500U 2.5GHz</td>\n",
       "      <td>6GB</td>\n",
       "      <td>1TB HDD</td>\n",
       "      <td>AMD Radeon R5 M330</td>\n",
       "      <td>Windows 10</td>\n",
       "      <td>2.19kg</td>\n",
       "      <td>40705.920</td>\n",
       "    </tr>\n",
       "    <tr>\n",
       "      <th>1302</th>\n",
       "      <td>1302</td>\n",
       "      <td>Asus</td>\n",
       "      <td>Notebook</td>\n",
       "      <td>15.6</td>\n",
       "      <td>1366x768</td>\n",
       "      <td>Intel Celeron Dual Core N3050 1.6GHz</td>\n",
       "      <td>4GB</td>\n",
       "      <td>500GB HDD</td>\n",
       "      <td>Intel HD Graphics</td>\n",
       "      <td>Windows 10</td>\n",
       "      <td>2.2kg</td>\n",
       "      <td>19660.320</td>\n",
       "    </tr>\n",
       "  </tbody>\n",
       "</table>\n",
       "<p>1072 rows × 12 columns</p>\n",
       "</div>"
      ],
      "text/plain": [
       "      Unnamed: 0 Company            TypeName  Inches  \\\n",
       "5              5    Acer            Notebook    15.6   \n",
       "8              8    Asus           Ultrabook    14.0   \n",
       "9              9    Acer           Ultrabook    14.0   \n",
       "13            13    Dell            Notebook    15.6   \n",
       "16            16    Dell            Notebook    15.6   \n",
       "...          ...     ...                 ...     ...   \n",
       "1298        1298  Lenovo  2 in 1 Convertible    14.0   \n",
       "1299        1299  Lenovo  2 in 1 Convertible    13.3   \n",
       "1300        1300  Lenovo            Notebook    14.0   \n",
       "1301        1301      HP            Notebook    15.6   \n",
       "1302        1302    Asus            Notebook    15.6   \n",
       "\n",
       "                                ScreenResolution  \\\n",
       "5                                       1366x768   \n",
       "8                              Full HD 1920x1080   \n",
       "9                    IPS Panel Full HD 1920x1080   \n",
       "13                             Full HD 1920x1080   \n",
       "16                             Full HD 1920x1080   \n",
       "...                                          ...   \n",
       "1298   IPS Panel Full HD / Touchscreen 1920x1080   \n",
       "1299  IPS Panel Quad HD+ / Touchscreen 3200x1800   \n",
       "1300                                    1366x768   \n",
       "1301                                    1366x768   \n",
       "1302                                    1366x768   \n",
       "\n",
       "                                       Cpu   Ram              Memory  \\\n",
       "5                  AMD A9-Series 9420 3GHz   4GB           500GB HDD   \n",
       "8               Intel Core i7 8550U 1.8GHz  16GB           512GB SSD   \n",
       "9               Intel Core i5 8250U 1.6GHz   8GB           256GB SSD   \n",
       "13                Intel Core i3 6006U 2GHz   4GB           256GB SSD   \n",
       "16              Intel Core i7 7500U 2.7GHz   8GB           256GB SSD   \n",
       "...                                    ...   ...                 ...   \n",
       "1298            Intel Core i7 6500U 2.5GHz   4GB           128GB SSD   \n",
       "1299            Intel Core i7 6500U 2.5GHz  16GB           512GB SSD   \n",
       "1300  Intel Celeron Dual Core N3050 1.6GHz   2GB  64GB Flash Storage   \n",
       "1301            Intel Core i7 6500U 2.5GHz   6GB             1TB HDD   \n",
       "1302  Intel Celeron Dual Core N3050 1.6GHz   4GB           500GB HDD   \n",
       "\n",
       "                         Gpu       OpSys  Weight      Price  \n",
       "5              AMD Radeon R5  Windows 10   2.1kg  21312.000  \n",
       "8       Nvidia GeForce MX150  Windows 10   1.3kg  79653.600  \n",
       "9     Intel UHD Graphics 620  Windows 10   1.6kg  41025.600  \n",
       "13        AMD Radeon R5 M430  Windows 10   2.2kg  26581.392  \n",
       "16        AMD Radeon R5 M430  Windows 10   2.2kg  39693.600  \n",
       "...                      ...         ...     ...        ...  \n",
       "1298   Intel HD Graphics 520  Windows 10   1.8kg  33992.640  \n",
       "1299   Intel HD Graphics 520  Windows 10   1.3kg  79866.720  \n",
       "1300       Intel HD Graphics  Windows 10   1.5kg  12201.120  \n",
       "1301      AMD Radeon R5 M330  Windows 10  2.19kg  40705.920  \n",
       "1302       Intel HD Graphics  Windows 10   2.2kg  19660.320  \n",
       "\n",
       "[1072 rows x 12 columns]"
      ]
     },
     "execution_count": 5,
     "metadata": {},
     "output_type": "execute_result"
    }
   ],
   "source": [
    "windows_10 = 'Windows 10'\n",
    "data[data['OpSys']==windows_10]"
   ]
  },
  {
   "cell_type": "code",
   "execution_count": 6,
   "metadata": {},
   "outputs": [
    {
     "data": {
      "text/plain": [
       "array(['2 in 1 Convertible', 'Gaming', 'Netbook', 'Notebook', 'Ultrabook',\n",
       "       'Workstation'], dtype=object)"
      ]
     },
     "execution_count": 6,
     "metadata": {},
     "output_type": "execute_result"
    }
   ],
   "source": [
    "unique_type = data[data.Price > 0]['TypeName'].unique()\n",
    "unique_type.sort()\n",
    "unique_type"
   ]
  },
  {
   "cell_type": "code",
   "execution_count": 7,
   "metadata": {},
   "outputs": [
    {
     "name": "stderr",
     "output_type": "stream",
     "text": [
      "C:\\Users\\62812\\AppData\\Local\\Temp\\ipykernel_448\\2461572505.py:3: UserWarning: Boolean Series key will be reindexed to match DataFrame index.\n",
      "  type_price_total.append(data[data.Price > 0][data['TypeName']==i][data['OpSys']==windows_10].Price.sum())\n",
      "C:\\Users\\62812\\AppData\\Local\\Temp\\ipykernel_448\\2461572505.py:3: UserWarning: Boolean Series key will be reindexed to match DataFrame index.\n",
      "  type_price_total.append(data[data.Price > 0][data['TypeName']==i][data['OpSys']==windows_10].Price.sum())\n",
      "C:\\Users\\62812\\AppData\\Local\\Temp\\ipykernel_448\\2461572505.py:3: UserWarning: Boolean Series key will be reindexed to match DataFrame index.\n",
      "  type_price_total.append(data[data.Price > 0][data['TypeName']==i][data['OpSys']==windows_10].Price.sum())\n",
      "C:\\Users\\62812\\AppData\\Local\\Temp\\ipykernel_448\\2461572505.py:3: UserWarning: Boolean Series key will be reindexed to match DataFrame index.\n",
      "  type_price_total.append(data[data.Price > 0][data['TypeName']==i][data['OpSys']==windows_10].Price.sum())\n",
      "C:\\Users\\62812\\AppData\\Local\\Temp\\ipykernel_448\\2461572505.py:3: UserWarning: Boolean Series key will be reindexed to match DataFrame index.\n",
      "  type_price_total.append(data[data.Price > 0][data['TypeName']==i][data['OpSys']==windows_10].Price.sum())\n",
      "C:\\Users\\62812\\AppData\\Local\\Temp\\ipykernel_448\\2461572505.py:3: UserWarning: Boolean Series key will be reindexed to match DataFrame index.\n",
      "  type_price_total.append(data[data.Price > 0][data['TypeName']==i][data['OpSys']==windows_10].Price.sum())\n"
     ]
    }
   ],
   "source": [
    "type_price_total = []\n",
    "for i in unique_type:\n",
    "    type_price_total.append(data[data.Price > 0][data['TypeName']==i][data['OpSys']==windows_10].Price.sum())"
   ]
  },
  {
   "cell_type": "code",
   "execution_count": 8,
   "metadata": {},
   "outputs": [
    {
     "name": "stdout",
     "output_type": "stream",
     "text": [
      "{('Gaming', 18241528.4784), ('Netbook', 620120.5920000001), ('2 in 1 Convertible', 7879431.081599997), ('Workstation', 2443101.6528000003), ('Notebook', 25260078.902400002), ('Ultrabook', 12275380.5984)}\n"
     ]
    }
   ],
   "source": [
    "print(set(zip(unique_type, type_price_total)))\n"
   ]
  },
  {
   "cell_type": "code",
   "execution_count": 21,
   "metadata": {},
   "outputs": [
    {
     "data": {
      "text/plain": [
       "array(['Apple', 'HP', 'Acer', 'Asus', 'Dell', 'Lenovo', 'Chuwi', 'MSI',\n",
       "       'Microsoft', 'Toshiba', 'Huawei', 'Xiaomi', 'Vero', 'Razer',\n",
       "       'Mediacom', 'Samsung', 'Google', 'Fujitsu', 'LG'], dtype=object)"
      ]
     },
     "execution_count": 21,
     "metadata": {},
     "output_type": "execute_result"
    }
   ],
   "source": [
    "unique_company = data['Company'][data.Price > 1].unique()\n",
    "unique_company"
   ]
  },
  {
   "cell_type": "code",
   "execution_count": 22,
   "metadata": {},
   "outputs": [
    {
     "name": "stderr",
     "output_type": "stream",
     "text": [
      "C:\\Users\\62812\\AppData\\Local\\Temp\\ipykernel_448\\2571984354.py:3: UserWarning: Boolean Series key will be reindexed to match DataFrame index.\n",
      "  company_price_total.append(data[data.Price > 0][data['Company']==i][data['OpSys']==windows_10].Price.sum())\n",
      "C:\\Users\\62812\\AppData\\Local\\Temp\\ipykernel_448\\2571984354.py:3: UserWarning: Boolean Series key will be reindexed to match DataFrame index.\n",
      "  company_price_total.append(data[data.Price > 0][data['Company']==i][data['OpSys']==windows_10].Price.sum())\n",
      "C:\\Users\\62812\\AppData\\Local\\Temp\\ipykernel_448\\2571984354.py:3: UserWarning: Boolean Series key will be reindexed to match DataFrame index.\n",
      "  company_price_total.append(data[data.Price > 0][data['Company']==i][data['OpSys']==windows_10].Price.sum())\n",
      "C:\\Users\\62812\\AppData\\Local\\Temp\\ipykernel_448\\2571984354.py:3: UserWarning: Boolean Series key will be reindexed to match DataFrame index.\n",
      "  company_price_total.append(data[data.Price > 0][data['Company']==i][data['OpSys']==windows_10].Price.sum())\n",
      "C:\\Users\\62812\\AppData\\Local\\Temp\\ipykernel_448\\2571984354.py:3: UserWarning: Boolean Series key will be reindexed to match DataFrame index.\n",
      "  company_price_total.append(data[data.Price > 0][data['Company']==i][data['OpSys']==windows_10].Price.sum())\n",
      "C:\\Users\\62812\\AppData\\Local\\Temp\\ipykernel_448\\2571984354.py:3: UserWarning: Boolean Series key will be reindexed to match DataFrame index.\n",
      "  company_price_total.append(data[data.Price > 0][data['Company']==i][data['OpSys']==windows_10].Price.sum())\n",
      "C:\\Users\\62812\\AppData\\Local\\Temp\\ipykernel_448\\2571984354.py:3: UserWarning: Boolean Series key will be reindexed to match DataFrame index.\n",
      "  company_price_total.append(data[data.Price > 0][data['Company']==i][data['OpSys']==windows_10].Price.sum())\n",
      "C:\\Users\\62812\\AppData\\Local\\Temp\\ipykernel_448\\2571984354.py:3: UserWarning: Boolean Series key will be reindexed to match DataFrame index.\n",
      "  company_price_total.append(data[data.Price > 0][data['Company']==i][data['OpSys']==windows_10].Price.sum())\n",
      "C:\\Users\\62812\\AppData\\Local\\Temp\\ipykernel_448\\2571984354.py:3: UserWarning: Boolean Series key will be reindexed to match DataFrame index.\n",
      "  company_price_total.append(data[data.Price > 0][data['Company']==i][data['OpSys']==windows_10].Price.sum())\n",
      "C:\\Users\\62812\\AppData\\Local\\Temp\\ipykernel_448\\2571984354.py:3: UserWarning: Boolean Series key will be reindexed to match DataFrame index.\n",
      "  company_price_total.append(data[data.Price > 0][data['Company']==i][data['OpSys']==windows_10].Price.sum())\n",
      "C:\\Users\\62812\\AppData\\Local\\Temp\\ipykernel_448\\2571984354.py:3: UserWarning: Boolean Series key will be reindexed to match DataFrame index.\n",
      "  company_price_total.append(data[data.Price > 0][data['Company']==i][data['OpSys']==windows_10].Price.sum())\n",
      "C:\\Users\\62812\\AppData\\Local\\Temp\\ipykernel_448\\2571984354.py:3: UserWarning: Boolean Series key will be reindexed to match DataFrame index.\n",
      "  company_price_total.append(data[data.Price > 0][data['Company']==i][data['OpSys']==windows_10].Price.sum())\n",
      "C:\\Users\\62812\\AppData\\Local\\Temp\\ipykernel_448\\2571984354.py:3: UserWarning: Boolean Series key will be reindexed to match DataFrame index.\n",
      "  company_price_total.append(data[data.Price > 0][data['Company']==i][data['OpSys']==windows_10].Price.sum())\n",
      "C:\\Users\\62812\\AppData\\Local\\Temp\\ipykernel_448\\2571984354.py:3: UserWarning: Boolean Series key will be reindexed to match DataFrame index.\n",
      "  company_price_total.append(data[data.Price > 0][data['Company']==i][data['OpSys']==windows_10].Price.sum())\n",
      "C:\\Users\\62812\\AppData\\Local\\Temp\\ipykernel_448\\2571984354.py:3: UserWarning: Boolean Series key will be reindexed to match DataFrame index.\n",
      "  company_price_total.append(data[data.Price > 0][data['Company']==i][data['OpSys']==windows_10].Price.sum())\n",
      "C:\\Users\\62812\\AppData\\Local\\Temp\\ipykernel_448\\2571984354.py:3: UserWarning: Boolean Series key will be reindexed to match DataFrame index.\n",
      "  company_price_total.append(data[data.Price > 0][data['Company']==i][data['OpSys']==windows_10].Price.sum())\n",
      "C:\\Users\\62812\\AppData\\Local\\Temp\\ipykernel_448\\2571984354.py:3: UserWarning: Boolean Series key will be reindexed to match DataFrame index.\n",
      "  company_price_total.append(data[data.Price > 0][data['Company']==i][data['OpSys']==windows_10].Price.sum())\n",
      "C:\\Users\\62812\\AppData\\Local\\Temp\\ipykernel_448\\2571984354.py:3: UserWarning: Boolean Series key will be reindexed to match DataFrame index.\n",
      "  company_price_total.append(data[data.Price > 0][data['Company']==i][data['OpSys']==windows_10].Price.sum())\n",
      "C:\\Users\\62812\\AppData\\Local\\Temp\\ipykernel_448\\2571984354.py:3: UserWarning: Boolean Series key will be reindexed to match DataFrame index.\n",
      "  company_price_total.append(data[data.Price > 0][data['Company']==i][data['OpSys']==windows_10].Price.sum())\n"
     ]
    }
   ],
   "source": [
    "company_price_total = []\n",
    "for i in unique_company:\n",
    "    company_price_total.append(data[data.Price > 0][data['Company']==i][data['OpSys']==windows_10].Price.sum())"
   ]
  },
  {
   "cell_type": "code",
   "execution_count": 23,
   "metadata": {},
   "outputs": [
    {
     "name": "stdout",
     "output_type": "stream",
     "text": [
      "{('Dell', 16994194.128), ('Asus', 8697475.152), ('Toshiba', 3100895.9999999995), ('Apple', 0.0), ('HP', 12954840.191999998), ('Vero', 46337.615999999995), ('Acer', 2810163.5568000004), ('Xiaomi', 49816.8), ('Huawei', 151741.44), ('MSI', 4974276.2112), ('Razer', 1247977.44), ('Samsung', 628331.0399999999), ('LG', 335504.16000000003), ('Lenovo', 14451303.8304), ('Google', 0.0), ('Mediacom', 110023.2), ('Microsoft', 0.0), ('Chuwi', 50237.1792), ('Fujitsu', 116523.36)}\n"
     ]
    }
   ],
   "source": [
    "print(set(zip(unique_company, company_price_total)))"
   ]
  },
  {
   "cell_type": "code",
   "execution_count": 33,
   "metadata": {},
   "outputs": [],
   "source": [
    "nan_indices = []\n",
    "for i in range(len(unique_company)):\n",
    "    if type(unique_company[i])==int:\n",
    "        nan_indices.append(i)"
   ]
  },
  {
   "cell_type": "code",
   "execution_count": 34,
   "metadata": {},
   "outputs": [],
   "source": [
    "unique_company = list(unique_company)\n",
    "company_price_total = list(company_price_total)"
   ]
  },
  {
   "cell_type": "code",
   "execution_count": 35,
   "metadata": {},
   "outputs": [
    {
     "data": {
      "text/plain": [
       "['HP',\n",
       " 'Asus',\n",
       " 'Lenovo',\n",
       " 'MSI',\n",
       " 'Toshiba',\n",
       " 'Xiaomi',\n",
       " 'Razer',\n",
       " 'Samsung',\n",
       " 'Fujitsu']"
      ]
     },
     "execution_count": 35,
     "metadata": {},
     "output_type": "execute_result"
    }
   ],
   "source": [
    "for i in nan_indices:\n",
    "    unique_company.pop(i)\n",
    "    company_price_total.pop(i)\n",
    "\n",
    "unique_company    "
   ]
  },
  {
   "cell_type": "code",
   "execution_count": 15,
   "metadata": {},
   "outputs": [
    {
     "data": {
      "image/png": "[encoded data removed]",
      "text/plain": [
       "<Figure size 640x480 with 1 Axes>"
      ]
     },
     "metadata": {},
     "output_type": "display_data"
    }
   ],
   "source": [
    "plt.barh(unique_type, type_price_total)\n",
    "plt.show()"
   ]
  },
  {
   "cell_type": "code",
   "execution_count": 16,
   "metadata": {},
   "outputs": [
    {
     "data": {
      "image/png": "[encoded data removed]",
      "text/plain": [
       "<Figure size 640x480 with 1 Axes>"
      ]
     },
     "metadata": {},
     "output_type": "display_data"
    }
   ],
   "source": [
    "plt.barh(unique_company, company_price_total)\n",
    "plt.show()"
   ]
  },
  {
   "cell_type": "code",
   "execution_count": 17,
   "metadata": {},
   "outputs": [
    {
     "data": {
      "image/png": "[encoded data removed]",
      "text/plain": [
       "<Figure size 640x480 with 1 Axes>"
      ]
     },
     "metadata": {},
     "output_type": "display_data"
    }
   ],
   "source": [
    "plt.pie(type_price_total)\n",
    "plt.legend(unique_type, loc='best')\n",
    "plt.show()"
   ]
  },
  {
   "cell_type": "code",
   "execution_count": 18,
   "metadata": {},
   "outputs": [
    {
     "data": {
      "image/png": "[encoded data removed]",
      "text/plain": [
       "<Figure size 640x480 with 1 Axes>"
      ]
     },
     "metadata": {},
     "output_type": "display_data"
    }
   ],
   "source": [
    "plt.pie(company_price_total)\n",
    "plt.legend(unique_company, loc='best')\n",
    "plt.show()"
   ]
  }
 ],
 "metadata": {
  "kernelspec": {
   "display_name": "Python 3",
   "language": "python",
   "name": "python3"
  },
  "language_info": {
   "codemirror_mode": {
    "name": "ipython",
    "version": 3
   },
   "file_extension": ".py",
   "mimetype": "text/x-python",
   "name": "python",
   "nbconvert_exporter": "python",
   "pygments_lexer": "ipython3",
   "version": "3.11.9"
  }
 },
 "nbformat": 4,
 "nbformat_minor": 2
}
